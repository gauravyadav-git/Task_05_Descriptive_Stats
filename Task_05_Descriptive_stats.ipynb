{
 "cells": [
  {
   "cell_type": "code",
   "execution_count": 1,
   "id": "13b65894-a3db-481a-8c73-649ef3b91d18",
   "metadata": {
    "tags": []
   },
   "outputs": [
    {
     "name": "stdout",
     "output_type": "stream",
     "text": [
      "📊 PANDAS DESCRIPTIVE STATISTICS\n"
     ]
    },
    {
     "name": "stdin",
     "output_type": "stream",
     "text": [
      "Enter CSV path :  Premier_League.csv\n",
      "Enter group keys (comma-separated or leave blank):  \n"
     ]
    },
    {
     "name": "stdout",
     "output_type": "stream",
     "text": [
      "📥 Loading data...\n",
      "🔍 Detected encoding: ascii\n",
      "🔍 Unpacking nested columns (if any)...\n",
      "📊 Summarizing...\n",
      "✅ Summary saved to Task_05_summaries/summary_without_grouping_Premier_League.csv\n"
     ]
    },
    {
     "name": "stdin",
     "output_type": "stream",
     "text": [
      "📈 Generate plots? (y/n):  y\n"
     ]
    },
    {
     "name": "stdout",
     "output_type": "stream",
     "text": [
      "✅ Plots saved to Task_05_plots_without_grouping/\n",
      "⏱ Done in 2.90 seconds\n"
     ]
    }
   ],
   "source": [
    "import pandas as pd\n",
    "import matplotlib.pyplot as plt\n",
    "import chardet\n",
    "import os\n",
    "import time\n",
    "import ast\n",
    "\n",
    "# ------------------ Helpers ------------------\n",
    "\n",
    "def detect_encoding(filepath):\n",
    "    with open(filepath, 'rb') as f:\n",
    "        raw = f.read(10000)\n",
    "    result = chardet.detect(raw)\n",
    "    return result['encoding'] or 'utf-8'\n",
    "\n",
    "def load_csv(filepath):\n",
    "    try:\n",
    "        encoding = detect_encoding(filepath)\n",
    "        print(f\"🔍 Detected encoding: {encoding}\")\n",
    "        return pd.read_csv(filepath, encoding=encoding).head(10).dropna(how='all')\n",
    "    except UnicodeDecodeError:\n",
    "        print(\"⚠️ Encoding issue detected. Retrying with UTF-8 and fallback open().\")\n",
    "        with open(filepath, mode='r', encoding='utf-8', errors='replace') as f:\n",
    "            return pd.read_csv(f).head(10).dropna(how='all')\n",
    "\n",
    "def detect_unpackable_columns(df, sample_size=5):\n",
    "    unpackable = []\n",
    "    for col in df.columns:\n",
    "        samples = df[col].dropna().astype(str).head(sample_size)\n",
    "        for val in samples:\n",
    "            try:\n",
    "                parsed = ast.literal_eval(val.strip())\n",
    "                if isinstance(parsed, dict) and all(isinstance(v, dict) for v in parsed.values()):\n",
    "                    unpackable.append(col)\n",
    "                    break\n",
    "            except:\n",
    "                continue\n",
    "    return unpackable\n",
    "\n",
    "def unpack_column(df, col, prefix):\n",
    "    rows = []\n",
    "    for _, row in df.iterrows():\n",
    "        raw = row[col]\n",
    "        try:\n",
    "            nested = ast.literal_eval(str(raw).strip())\n",
    "        except:\n",
    "            continue\n",
    "        for subkey, subvals in nested.items():\n",
    "            if not isinstance(subvals, dict):\n",
    "                continue\n",
    "            new_row = row.to_dict()\n",
    "            new_row[f\"{prefix}_key\"] = subkey\n",
    "            for k, v in subvals.items():\n",
    "                new_row[f\"{prefix}_{k}\"] = v\n",
    "            rows.append(new_row)\n",
    "    return pd.DataFrame(rows)\n",
    "\n",
    "# ------------------ Summary ------------------\n",
    "\n",
    "def summarize_dataframe(df, group_label):\n",
    "    summary = []\n",
    "    for col in df.columns:\n",
    "        s = df[col].dropna()\n",
    "        col_stats = {\n",
    "            \"column\": col,\n",
    "            \"count\": s.count(),\n",
    "            \"unique\": s.nunique(),\n",
    "            \"mean\": round(s.mean(), 4) if pd.api.types.is_numeric_dtype(s) else \"NA\",\n",
    "            \"min\": s.min() if pd.api.types.is_numeric_dtype(s) else \"NA\",\n",
    "            \"max\": s.max() if pd.api.types.is_numeric_dtype(s) else \"NA\",\n",
    "            \"std_dev\": round(s.std(), 4) if pd.api.types.is_numeric_dtype(s) else \"NA\",\n",
    "            \"most_freq\": f\"{s.mode().iloc[0]} ({s.value_counts().iloc[0]})\" if not pd.api.types.is_numeric_dtype(s) and not s.empty else \"NA\",\n",
    "            \"group\": group_label\n",
    "        }\n",
    "        summary.append(col_stats)\n",
    "    return summary\n",
    "\n",
    "# ------------------ Plots ------------------\n",
    "\n",
    "def plot_columns(df, numeric_cols, categorical_cols, prefix):\n",
    "    os.makedirs(\"Task_05_plots_without_grouping\", exist_ok=True)\n",
    "    \n",
    "    selected_numeric_cols = [\"Goals Home\", \"Away Goals\", \"home_possessions\", \"away_possessions\"]\n",
    "    \n",
    "    for col in selected_numeric_cols:\n",
    "        if col in df.columns:\n",
    "            try:\n",
    "                df[col].value_counts().head(10).plot(kind='bar', title=f\"Top Values: {col}\")\n",
    "                plt.xlabel(col)\n",
    "                plt.ylabel(\"Count\")\n",
    "                plt.xticks(rotation=45)\n",
    "                plt.tight_layout()\n",
    "                plt.savefig(f\"Task_05_plots_without_grouping/{prefix}_bar_{col.replace(' ', '_')}.png\")\n",
    "                plt.close()\n",
    "            except Exception as e:\n",
    "                print(f\"⚠ Bar chart failed for {col}: {e}\")\n",
    "        else:\n",
    "            print(f\"⚠ Column '{col}' not found in dataset. Skipping plot.\")\n",
    "            \n",
    "'''\n",
    "    for col in selected_numeric_cols:\n",
    "        if col in df.columns:\n",
    "            try:\n",
    "                df[col].dropna().astype(float).plot(kind='hist', bins=20, title=f\"Histogram: {col}\")\n",
    "                plt.xlabel(col)\n",
    "                plt.ylabel(\"Frequency\")\n",
    "                plt.tight_layout()\n",
    "                plt.savefig(f\"Task_05_plots_without_grouping/{prefix}hist{col}.png\")\n",
    "                plt.close()\n",
    "            except Exception as e:\n",
    "                print(f\"⚠ Histogram failed for {col}: {e}\")\n",
    "                \n",
    "'''\n",
    "\n",
    "# ------------------ Main ------------------\n",
    "\n",
    "if __name__ == \"__main__\":\n",
    "    print(\"📊 PANDAS DESCRIPTIVE STATISTICS\")\n",
    "    filepath = input(\"Enter CSV path : \").strip()\n",
    "    dataset_name = os.path.splitext(os.path.basename(filepath))[0]\n",
    "    group_input = input(\"Enter group keys (comma-separated or leave blank): \").strip()\n",
    "    group_keys = [g.strip() for g in group_input.split(\",\") if g.strip()]\n",
    "\n",
    "    print(\"📥 Loading data...\")\n",
    "    df = load_csv(filepath)\n",
    "    df = df[:10]\n",
    "\n",
    "    print(\"🔍 Unpacking nested columns (if any)...\")\n",
    "    unpack_cols = detect_unpackable_columns(df)\n",
    "    for col in unpack_cols:\n",
    "        df = unpack_column(df, col, col.split(\"_\")[0])\n",
    "        df.drop(columns=[col], inplace=True)\n",
    "\n",
    "    print(\"📊 Summarizing...\")\n",
    "    start = time.perf_counter()\n",
    "    summaries = summarize_dataframe(df, group_label=\"full_dataset\")\n",
    "\n",
    "    if group_keys:\n",
    "        grouped = df.groupby(group_keys)\n",
    "        for group_val, group_df in grouped:\n",
    "            label = \", \".join(f\"{k}={v}\" for k, v in zip(group_keys, group_val)) if isinstance(group_val, tuple) else f\"{group_keys[0]}={group_val}\"\n",
    "            summaries.extend(summarize_dataframe(group_df, group_label=label))\n",
    "\n",
    "    os.makedirs(\"Task_05_summaries\", exist_ok=True)\n",
    "    out_file = f\"Task_05_summaries/summary_without_grouping_{dataset_name}.csv\"\n",
    "    pd.DataFrame(summaries).to_csv(out_file, index=False)\n",
    "    print(f\"✅ Summary saved to {out_file}\")\n",
    "\n",
    "    # Optional plotting\n",
    "    if input(\"📈 Generate plots? (y/n): \").strip().lower() == 'y':\n",
    "        num_cols = [col for col in df.columns if pd.api.types.is_numeric_dtype(df[col])]\n",
    "        cat_cols = [col for col in df.columns if col not in num_cols]\n",
    "        plot_columns(df, num_cols, cat_cols, dataset_name)\n",
    "        print(\"✅ Plots saved to Task_05_plots_without_grouping/\")\n",
    "\n",
    "    print(f\"⏱ Done in {time.perf_counter() - start:.2f} seconds\")"
   ]
  },
  {
   "cell_type": "code",
   "execution_count": 2,
   "id": "5b35d05b-73ed-4b6f-84a8-7cd4f82cab0b",
   "metadata": {},
   "outputs": [
    {
     "name": "stdout",
     "output_type": "stream",
     "text": [
      "📊 Match with the largest possession difference:\n",
      "date                                                    28th May 2023\n",
      "clock                                                          4:30pm\n",
      "stadium                                            St. Mary's Stadium\n",
      "attendance                                                     31,129\n",
      "Home Team                                                 Southampton\n",
      "Goals Home                                                          4\n",
      "Away Team                                                   Liverpool\n",
      "Away Goals                                                          4\n",
      "home_possessions                                                 30.9\n",
      "away_possessions                                                 69.1\n",
      "home_shots                                                         15\n",
      "away_shots                                                         30\n",
      "home_on                                                            10\n",
      "away_on                                                             8\n",
      "home_off                                                            5\n",
      "away_off                                                           11\n",
      "home_blocked                                                        0\n",
      "away_blocked                                                       11\n",
      "home_pass                                                        74.5\n",
      "away_pass                                                        86.9\n",
      "home_chances                                                        1\n",
      "away_chances                                                        5\n",
      "home_corners                                                        2\n",
      "away_corners                                                        9\n",
      "home_offside                                                        0\n",
      "away_offside                                                        0\n",
      "home_tackles                                                     71.4\n",
      "away_tackles                                                     75.0\n",
      "home_duels                                                       54.5\n",
      "away_duels                                                       45.5\n",
      "home_saves                                                          4\n",
      "away_saves                                                          6\n",
      "home_fouls                                                          4\n",
      "away_fouls                                                         10\n",
      "home_yellow                                                         0\n",
      "away_yellow                                                         2\n",
      "home_red                                                            0\n",
      "away_red                                                            0\n",
      "links               https://www.skysports.com/football/southampton...\n",
      "possession_diff                                                  38.2\n",
      "Name: 9, dtype: object\n"
     ]
    }
   ],
   "source": [
    "# Make sure columns exist and are numeric\n",
    "df[\"home_possessions\"] = pd.to_numeric(df[\"home_possessions\"], errors=\"coerce\")\n",
    "df[\"away_possessions\"] = pd.to_numeric(df[\"away_possessions\"], errors=\"coerce\")\n",
    "\n",
    "# Calculate absolute possession difference\n",
    "df[\"possession_diff\"] = (df[\"home_possessions\"] - df[\"away_possessions\"]).abs()\n",
    "\n",
    "# Find the row with the maximum difference\n",
    "max_diff_row = df.loc[df[\"possession_diff\"].idxmax()]\n",
    "\n",
    "print(\"📊 Match with the largest possession difference:\")\n",
    "print(max_diff_row)\n"
   ]
  },
  {
   "cell_type": "code",
   "execution_count": 3,
   "id": "ebe065ab-82a4-4299-861f-077f0fcfc4e2",
   "metadata": {
    "tags": []
   },
   "outputs": [
    {
     "name": "stdout",
     "output_type": "stream",
     "text": [
      "🎯 Mean total goals per match: 3.30\n",
      "📉 Standard deviation: 2.16\n"
     ]
    }
   ],
   "source": [
    "# Ensure goal columns are numeric\n",
    "df[\"Goals Home\"] = pd.to_numeric(df[\"Goals Home\"], errors=\"coerce\")\n",
    "df[\"Away Goals\"] = pd.to_numeric(df[\"Away Goals\"], errors=\"coerce\")\n",
    "\n",
    "# Total goals per match\n",
    "df[\"total_goals\"] = df[\"Goals Home\"] + df[\"Away Goals\"]\n",
    "\n",
    "# Mean and standard deviation\n",
    "mean_total_goals = df[\"total_goals\"].mean()\n",
    "std_total_goals = df[\"total_goals\"].std()\n",
    "\n",
    "print(f\"🎯 Mean total goals per match: {mean_total_goals:.2f}\")\n",
    "print(f\"📉 Standard deviation: {std_total_goals:.2f}\")\n"
   ]
  },
  {
   "cell_type": "code",
   "execution_count": 4,
   "id": "7533221a-057b-4b58-a701-0fd9a6c41f6d",
   "metadata": {
    "tags": []
   },
   "outputs": [
    {
     "name": "stdout",
     "output_type": "stream",
     "text": [
      "🏠 Avg home possession: 47.83%\n",
      "🚗 Avg away possession: 52.17%\n",
      "❌ Away teams have higher average possession.\n"
     ]
    }
   ],
   "source": [
    "# Calculate mean possessions\n",
    "mean_home_poss = df[\"home_possessions\"].mean()\n",
    "mean_away_poss = df[\"away_possessions\"].mean()\n",
    "\n",
    "print(f\"🏠 Avg home possession: {mean_home_poss:.2f}%\")\n",
    "print(f\"🚗 Avg away possession: {mean_away_poss:.2f}%\")\n",
    "\n",
    "if mean_home_poss > mean_away_poss:\n",
    "    print(\"✅ Home teams have higher average possession.\")\n",
    "else:\n",
    "    print(\"❌ Away teams have higher average possession.\")\n"
   ]
  },
  {
   "cell_type": "code",
   "execution_count": 6,
   "id": "d6e43994-fbfa-4be1-9e17-23a742aad703",
   "metadata": {
    "tags": []
   },
   "outputs": [
    {
     "name": "stdout",
     "output_type": "stream",
     "text": [
      "📈 Correlation between home possession and home goals: -0.262\n",
      "❌ No meaningful positive correlation.\n"
     ]
    }
   ],
   "source": [
    "# Drop rows with missing values in required columns\n",
    "subset_df = df[[\"home_possessions\", \"Goals Home\"]].dropna()\n",
    "\n",
    "# Compute correlation\n",
    "correlation = subset_df[\"home_possessions\"].corr(subset_df[\"Goals Home\"])\n",
    "\n",
    "print(f\"📈 Correlation between home possession and home goals: {correlation:.3f}\")\n",
    "if correlation > 0.3:\n",
    "    print(\"✅ Moderate/Strong positive correlation.\")\n",
    "elif correlation > 0:\n",
    "    print(\"🟡 Weak positive correlation.\")\n",
    "else:\n",
    "    print(\"❌ No meaningful positive correlation.\")\n"
   ]
  },
  {
   "cell_type": "code",
   "execution_count": 7,
   "id": "b0f12b47-5309-4cc0-9706-40b44e94a0ad",
   "metadata": {
    "tags": []
   },
   "outputs": [
    {
     "name": "stdout",
     "output_type": "stream",
     "text": [
      "⚽ Avg home goals when possession ≥ 49.6%: 2.00\n",
      "⚽ Avg home goals when possession < 49.6%: 2.00\n",
      "❌ Possession does not clearly correlate with scoring.\n"
     ]
    }
   ],
   "source": [
    "# Create high and low possession buckets\n",
    "median_poss = df[\"home_possessions\"].median()\n",
    "\n",
    "high_poss_df = df[df[\"home_possessions\"] >= median_poss]\n",
    "low_poss_df = df[df[\"home_possessions\"] < median_poss]\n",
    "\n",
    "mean_goals_high = high_poss_df[\"Goals Home\"].mean()\n",
    "mean_goals_low = low_poss_df[\"Goals Home\"].mean()\n",
    "\n",
    "print(f\"⚽ Avg home goals when possession ≥ {median_poss:.1f}%: {mean_goals_high:.2f}\")\n",
    "print(f\"⚽ Avg home goals when possession < {median_poss:.1f}%: {mean_goals_low:.2f}\")\n",
    "\n",
    "if mean_goals_high > mean_goals_low:\n",
    "    print(\"✅ Higher possession tends to lead to more goals at home.\")\n",
    "else:\n",
    "    print(\"❌ Possession does not clearly correlate with scoring.\")\n"
   ]
  },
  {
   "cell_type": "code",
   "execution_count": null,
   "id": "d61115ae-d689-4b5e-8dd9-46e505788c85",
   "metadata": {},
   "outputs": [],
   "source": []
  }
 ],
 "metadata": {
  "kernelspec": {
   "display_name": "Python 3 (ipykernel)",
   "language": "python",
   "name": "python3"
  },
  "language_info": {
   "codemirror_mode": {
    "name": "ipython",
    "version": 3
   },
   "file_extension": ".py",
   "mimetype": "text/x-python",
   "name": "python",
   "nbconvert_exporter": "python",
   "pygments_lexer": "ipython3",
   "version": "3.11.4"
  }
 },
 "nbformat": 4,
 "nbformat_minor": 5
}
